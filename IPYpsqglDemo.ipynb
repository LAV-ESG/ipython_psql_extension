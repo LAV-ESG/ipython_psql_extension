{
 "cells": [
  {
   "cell_type": "markdown",
   "metadata": {},
   "source": [
    "Loading in the modeul - here using 'sys.path.append' to redirect to the installation path."
   ]
  },
  {
   "cell_type": "code",
   "execution_count": 1,
   "metadata": {
    "collapsed": true
   },
   "outputs": [],
   "source": [
    "import sys\n",
    "sys.path.append(r\"T:\\LAV\\EnergySystemsGroup\\tools\\pgsql\")\n",
    "%reload_ext ipython_extension_LAV"
   ]
  },
  {
   "cell_type": "markdown",
   "metadata": {},
   "source": [
    "Use '%pg_connect' to connect. Additional arguments can just be appended. By default, the 'ipython_extension_LAV.py' example file uses the system-account name as a username for postgres, and tries to connect a host called 'lav-fileserver' on port '54333', using an SSL certificate in the user's home directory. You can either override these settings here, or provide your own 'load_ipython_extension' callback-file."
   ]
  },
  {
   "cell_type": "code",
   "execution_count": 2,
   "metadata": {
    "collapsed": false
   },
   "outputs": [
    {
     "name": "stdout",
     "output_type": "stream",
     "text": [
      "password for ggeorges@lav-fileserver:5433:········\n",
      "SUCCESS: connected to lav-fileserver"
     ]
    }
   ],
   "source": [
    "%pg_connect dbname='gis_data'"
   ]
  },
  {
   "cell_type": "markdown",
   "metadata": {},
   "source": [
    "Here is an example of a simple line-based query. The results are displayed as an IPython/Jupyter HTML table."
   ]
  },
  {
   "cell_type": "code",
   "execution_count": 6,
   "metadata": {
    "collapsed": false
   },
   "outputs": [
    {
     "name": "stdout",
     "output_type": "stream",
     "text": [
      "SUCCES: matched 1 rows"
     ]
    },
    {
     "data": {
      "text/html": [
       "<table width=\"100%\"><thead><tr><th>count</th></tr></thead><tbody><tr><td>575</td></tr></tbody></table>"
      ],
      "text/plain": [
       "<IPython.core.display.HTML object>"
      ]
     },
     "execution_count": 6,
     "metadata": {},
     "output_type": "execute_result"
    }
   ],
   "source": [
    "%%pg_sql\n",
    "SELECT count(area) from \"Individual Cell\".\"Built-up Area\" WHERE area > 100*2000"
   ]
  },
  {
   "cell_type": "markdown",
   "metadata": {},
   "source": [
    "This is essentially the same call as above, but now, the results are not displayed as a table. Instead, they are returned within the variable 'cur', which is the psycopg-cursor used to actually query the database. This can then, subsequently, be accessed directly:"
   ]
  },
  {
   "cell_type": "code",
   "execution_count": 7,
   "metadata": {
    "collapsed": false
   },
   "outputs": [
    {
     "name": "stdout",
     "output_type": "stream",
     "text": [
      "SUCCES: matched 1 rows cursor object available under 'cur'"
     ]
    }
   ],
   "source": [
    "%%pg_sql cur\n",
    "SELECT count(area) from \"Individual Cell\".\"Built-up Area\" WHERE area > 100*2000"
   ]
  },
  {
   "cell_type": "code",
   "execution_count": 8,
   "metadata": {
    "collapsed": false
   },
   "outputs": [
    {
     "name": "stdout",
     "output_type": "stream",
     "text": [
      "(575,)\n"
     ]
    }
   ],
   "source": [
    "print(cur.fetchone())"
   ]
  }
 ],
 "metadata": {
  "kernelspec": {
   "display_name": "Python 3",
   "language": "python",
   "name": "python3"
  },
  "language_info": {
   "codemirror_mode": {
    "name": "ipython",
    "version": 3
   },
   "file_extension": ".py",
   "mimetype": "text/x-python",
   "name": "python",
   "nbconvert_exporter": "python",
   "pygments_lexer": "ipython3",
   "version": "3.4.3"
  }
 },
 "nbformat": 4,
 "nbformat_minor": 0
}
