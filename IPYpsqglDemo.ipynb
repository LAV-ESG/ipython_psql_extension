{
 "cells": [
  {
   "cell_type": "markdown",
   "metadata": {},
   "source": [
    "# Installation"
   ]
  },
  {
   "cell_type": "markdown",
   "metadata": {},
   "source": [
    "For LAV students: follow the procedure layed out in [getting started](https://github.com/LAV-ESG/getting-started).\n",
    "\n",
    "1. Download the .whl file of the latest release from https://github.com/LAV-ESG/ipython_psql_extension/releases/latest.\n",
    "2. Open a console in the folder you downloaded the file to, and run:\n",
    "```bash\n",
    "pip install [name of the file you downloaded]\n",
    "```"
   ]
  },
  {
   "cell_type": "markdown",
   "metadata": {},
   "source": [
    "# Loading the extension"
   ]
  },
  {
   "cell_type": "markdown",
   "metadata": {},
   "source": [
    "Loading the extension is as simple as:"
   ]
  },
  {
   "cell_type": "code",
   "execution_count": 1,
   "metadata": {
    "collapsed": false,
    "scrolled": true
   },
   "outputs": [],
   "source": [
    "%load_ext ipython_pg.LAV"
   ]
  },
  {
   "cell_type": "markdown",
   "metadata": {},
   "source": [
    "We use the LAV-module as it comes preconfigured to connect to our server. To establish a connect, use the '%pg_connect' magic as shown below. The server name and port are already set to the correct values; the only argument you have to supply is \"dbname\", the name of the database that you wish to connect to. \n",
    "Note that by default, the module uses your system login name as a username for postgres. If the two don't match, use the \"user\" argument to provide the correct username. Also, the module assumes to find the SSL certificate in the user's home directory (see installation); if you don't want to store the certificate there, you can specify an alternative path using the \"sslcert\" argument."
   ]
  },
  {
   "cell_type": "markdown",
   "metadata": {},
   "source": [
    "# Connecting to the database\n",
    "\n",
    "In the following we will connect to the 'gis_data' database. If you execute the next line, and the server is reachable, then you will be prompted to type your password. Go ahead and try:"
   ]
  },
  {
   "cell_type": "code",
   "execution_count": 2,
   "metadata": {
    "collapsed": false
   },
   "outputs": [
    {
     "name": "stdout",
     "output_type": "stream",
     "text": [
      "password for ggeorges@lav-fileserver:5433:········\n",
      "SUCCESS: connected to lav-fileserver"
     ]
    }
   ],
   "source": [
    "%pg_connect dbname='gis_data'"
   ]
  },
  {
   "cell_type": "markdown",
   "metadata": {},
   "source": [
    "# Browsing through the available data"
   ]
  },
  {
   "cell_type": "markdown",
   "metadata": {},
   "source": [
    "OK! You are ready to explore the database. In case you are new to relational databases, postgres organizes data into tables. A table is defined by a set of columns; a column is defined by a unique name and a datatype (integers, text, ...). Data are stored as rows. Taken individually, a row (or record) can essentially be considered as a C \"struct\": a well-defined logical collection of individual bits of information, structured into fields; the fields are not necessarily of the same datatype.\n",
    "\n",
    "Tables are grouped in logical structures called schemas in Postgres. To list all schemas in the connected database (available since ipython_pg 1.0.1):"
   ]
  },
  {
   "cell_type": "code",
   "execution_count": 3,
   "metadata": {
    "collapsed": false
   },
   "outputs": [
    {
     "data": {
      "text/html": [
       "<table width=\"100%\"><thead><tr><th>name</th><th>schema_description</th></tr></thead><tbody><tr><td>public</td><td>standard public schema</td></tr><tr><td>CMSAF</td><td>(no description)</td></tr><tr><td>Electricity Network</td><td>(no description)</td></tr><tr><td>Energy Sources outside of PV</td><td>(no description)</td></tr><tr><td>Energy Transmission and Storage</td><td>(no description)</td></tr><tr><td>PV Efficiency</td><td>(no description)</td></tr><tr><td>Power Plants</td><td>(no description)</td></tr><tr><td>test</td><td>(no description)</td></tr><tr><td>Individual Cell</td><td>(no description)</td></tr><tr><td>Kanton</td><td>(no description)</td></tr></tbody></table>"
      ],
      "text/plain": [
       "<IPython.core.display.HTML object>"
      ]
     },
     "execution_count": 3,
     "metadata": {},
     "output_type": "execute_result"
    }
   ],
   "source": [
    "%pg_info"
   ]
  },
  {
   "cell_type": "markdown",
   "metadata": {},
   "source": [
    "To list all tables in a schema:"
   ]
  },
  {
   "cell_type": "code",
   "execution_count": 4,
   "metadata": {
    "collapsed": false
   },
   "outputs": [
    {
     "data": {
      "text/html": [
       "<table width=\"100%\"><thead><tr><th>table_name</th><th>table_description</th></tr></thead><tbody><tr><td>Ground Use 2004-2009</td><td>(no description)</td></tr><tr><td>Ground Use</td><td>(no description)</td></tr><tr><td>Ground Use 2013-2018</td><td>(no description)</td></tr><tr><td>Total Roof-top Area</td><td>Same as Roof-top Area but not divided into angles</td></tr><tr><td>Total Roof-top Area and Energy</td><td>(no description)</td></tr><tr><td>Population</td><td>(no description)</td></tr><tr><td>Sunshine</td><td>(no description)</td></tr><tr><td>NOAS04</td><td>(no description)</td></tr><tr><td>NOAS04g</td><td>(no description)</td></tr><tr><td>Built-up Area</td><td>(no description)</td></tr><tr><td>MeteoTest</td><td>(no description)</td></tr><tr><td>Roof-top Area</td><td>(no description)</td></tr><tr><td>Ground Use BC</td><td>(no description)</td></tr><tr><td>Ground Use BC2</td><td>(no description)</td></tr></tbody></table>"
      ],
      "text/plain": [
       "<IPython.core.display.HTML object>"
      ]
     },
     "execution_count": 4,
     "metadata": {},
     "output_type": "execute_result"
    }
   ],
   "source": [
    "%pg_info \"Individual Cell\""
   ]
  },
  {
   "cell_type": "markdown",
   "metadata": {},
   "source": [
    "And to view the columns of a table:"
   ]
  },
  {
   "cell_type": "code",
   "execution_count": 5,
   "metadata": {
    "collapsed": false
   },
   "outputs": [
    {
     "data": {
      "text/html": [
       "<table width=\"100%\"><thead><tr><th>name</th><th>type</th><th>description</th></tr></thead><tbody><tr><td>x_coord</td><td>int4(32)</td><td>None</td></tr><tr><td>y_coord</td><td>int4(32)</td><td>None</td></tr><tr><td>area</td><td>int4(32)</td><td>None</td></tr></tbody></table>"
      ],
      "text/plain": [
       "<IPython.core.display.HTML object>"
      ]
     },
     "execution_count": 5,
     "metadata": {},
     "output_type": "execute_result"
    }
   ],
   "source": [
    "%pg_info \"Individual Cell\".\"Built-up Area\""
   ]
  },
  {
   "cell_type": "markdown",
   "metadata": {},
   "source": [
    "# Accessing data\n",
    "\n",
    "## Introducing SQL: the Structured Query Language\n",
    "Data are accessed using a special-purpose programming language, called SQL (Structured Query Language) - often pronounced \"sequel\". Contrary to general purpose languages such as Python or C, SQL is a (mostly) declarative language. Simply put, this means that you describe what you want the final result to look like, rather than the steps the computer should take to get there. If you are used to imperative programmig, this may be a bit strange at first; it just takes some time to get your brain to \"think SQL\". \n",
    "\n",
    "In any case, the important message here is that, in SQL, you describe the data you want to retrieve - you don't really instruct the computer how to do it. Generally, you would state what columns from what tables interest you, what attributes these data should have (in case you are not interested in the entire table) and if these data should have any transformations applied to them. You then send this description to the server, which processes it and sends you back the results. \n",
    "\n",
    "## Talking to the server using psycopg2\n",
    "The act of asking the server for data is called \"querying the database\"; your inquiry, the SQL statement you sent, is called \"query\". The query starts out as a bit of text (in SQL). After making sure it's valid, the statement has to be \"packaged\" and sent to the server over the internet, following a well-defined communication protocol. All of this are handled by a small piece of software (in our case the psycopg2 library).\n",
    "\n",
    "Unfortunately, it is not entirely that simple. There are some repetitive tasks such as connecting to the database, loading data in memory or converting between types that are incompatible between Python and Postgres that psycopg2 does not handle fully automatically. ipython_pg is a small wrapper around psycopg2 that hides some of this ugliness; and it's IPython integration provides magics that take you from SQL to analyzable data in 6 keystrokes. \n",
    "\n",
    "## Your first query: ``%%pg_sql`` to view data\n",
    "In the following, we will be using the IPython extension to query the database. In particular, we'll use the %%pg_sql magic. It allows you to write and execute SQL directly within IPython cells. The full capabilities of the command are described in its docstring; run %pg_sql? in your notebook or console to access it."
   ]
  },
  {
   "cell_type": "code",
   "execution_count": 6,
   "metadata": {
    "collapsed": true
   },
   "outputs": [],
   "source": [
    "%pg_sql?"
   ]
  },
  {
   "cell_type": "markdown",
   "metadata": {},
   "source": [
    "Now it's time to write some SQL. To tell the server that you want to retrieve data (as opposed to modifying or adding data) you use the select-command (yes, command - that is what the postgres docs call it; but that does not make SQL imperative: select is merely an agreed-upon keyword that puts the server into \"data-retrieval mode\").\n",
    "\n",
    "As a first example, we'll run a basic select statement. It *selects* all records *from* the \"Built-up Area\" table in the \"Individual Cell\" schema, *where* the cell-*area* is larger than a certain threshold value; and it retrieves only the x_coord, y_coord and area columns of that table:"
   ]
  },
  {
   "cell_type": "code",
   "execution_count": 7,
   "metadata": {
    "collapsed": false
   },
   "outputs": [
    {
     "name": "stdout",
     "output_type": "stream",
     "text": [
      "SUCCES: matched 13 rows\n"
     ]
    },
    {
     "data": {
      "text/html": [
       "<table width=\"100%\"><thead><tr><th>x_coord</th><th>y_coord</th><th>area</th></tr></thead><tbody><tr><td>499000</td><td>115000</td><td>1142064</td></tr><tr><td>499000</td><td>117000</td><td>1206877</td></tr><tr><td>537000</td><td>151000</td><td>1127978</td></tr><tr><td>585000</td><td>219000</td><td>865953</td></tr><tr><td>599000</td><td>199000</td><td>1118303</td></tr><tr><td>609000</td><td>267000</td><td>1119848</td></tr><tr><td>611000</td><td>265000</td><td>1085037</td></tr><tr><td>611000</td><td>267000</td><td>1227751</td></tr><tr><td>679000</td><td>247000</td><td>887053</td></tr><tr><td>681000</td><td>245000</td><td>800126</td></tr><tr><td>681000</td><td>247000</td><td>1146191</td></tr><tr><td>683000</td><td>247000</td><td>1078889</td></tr><tr><td>683000</td><td>251000</td><td>886823</td></tr></tbody></table>"
      ],
      "text/plain": [
       "<IPython.core.display.HTML object>"
      ]
     },
     "execution_count": 7,
     "metadata": {},
     "output_type": "execute_result"
    }
   ],
   "source": [
    "%%pg_sql\n",
    "SELECT x_coord, y_coord, area from \"Individual Cell\".\"Built-up Area\" WHERE area > 400*2000"
   ]
  },
  {
   "cell_type": "markdown",
   "metadata": {},
   "source": [
    "A first important conclusion: the result of a query is a table (or at least something that has the structure of a table). You'll also notice one of the perks of using ``%%pg_sql``: the results are displayed as an HTML table for your inspection.\n",
    "\n",
    "Feel free to play with the query above; see e.g. what happens if you double the threshold value? You can make more complicated expressions, e.g. by adding in other constraints with logical operators (```where area > ... and x_coord < ...```).\n",
    "\n",
    "Some practical remarks:\n",
    "\n",
    "1. PostgreSQL is peculiar about quotes (' and \"). Text as data (imagine the *name* column in some *people* database) needs to be included in single quotes (''). Schema, table and column names need to be included in double quotes (\"\") if they contain anything else than lower-case letters or the underscore (_) sign. The error message you get when you do not respect this convention can be misleading - which makes quotes a classical pitfall for beginners.\n",
    "2. We selected all columns that the table has explicity. You could achieve the same by using the asterisk-notation (``select * from``). \n",
    "3. It does not matter whether you write SQL keywords (``SELECT``, ``FROM``, ``WHERE``, etc.) in upper or lower case letters. Some people use all caps on keywords to emphasize the structure of the query; with long queries, I find that line breaks and indentation helps more.\n",
    "4. If your query matches no data, a warning will be issued - no table will be displayed. \n",
    "5. To not overwhelm the browser, the HTML table is truncated at 500 lines; i.e. if your query returns 501 records, only 500 will be displayed."
   ]
  },
  {
   "cell_type": "markdown",
   "metadata": {},
   "source": [
    "## ``%%pg_tuple``: making data accessible to python\n",
    "\n",
    "Now the above is nice for viewing the data, but if we want to work with it in the notebook, we need different tools. One option is ``%%pg_tuple``; it returns the results as a python tuple. The tuple holds a set of other tuples, one for each column. Specifying variable names on the ``%%pg_tuple``-line instructs the extension to make the data available as variables in the notebook:"
   ]
  },
  {
   "cell_type": "code",
   "execution_count": 8,
   "metadata": {
    "collapsed": false
   },
   "outputs": [
    {
     "name": "stdout",
     "output_type": "stream",
     "text": [
      "SUCCES: matched 13 rows\n",
      " result stored under 'data'\n"
     ]
    }
   ],
   "source": [
    "%%pg_tuple data\n",
    "SELECT x_coord, y_coord, area from \"Individual Cell\".\"Built-up Area\" WHERE area > 400*2000"
   ]
  },
  {
   "cell_type": "code",
   "execution_count": 9,
   "metadata": {
    "collapsed": false
   },
   "outputs": [
    {
     "data": {
      "text/plain": [
       "(3, 13, 13, 13)"
      ]
     },
     "execution_count": 9,
     "metadata": {},
     "output_type": "execute_result"
    }
   ],
   "source": [
    "len(data), len(data[0]), len(data[1]), len(data[2])"
   ]
  },
  {
   "cell_type": "markdown",
   "metadata": {},
   "source": [
    "You can specify multiple variables to directly unpack the tuple within ``%%pg_tuple``"
   ]
  },
  {
   "cell_type": "code",
   "execution_count": 10,
   "metadata": {
    "collapsed": false
   },
   "outputs": [
    {
     "name": "stdout",
     "output_type": "stream",
     "text": [
      "SUCCES: matched 13 rows\n",
      " results stored under \n"
     ]
    }
   ],
   "source": [
    "%%pg_tuple x_coord, y_coord, my_area\n",
    "SELECT x_coord, y_coord, area from \"Individual Cell\".\"Built-up Area\" WHERE area > 400*2000"
   ]
  },
  {
   "cell_type": "code",
   "execution_count": 11,
   "metadata": {
    "collapsed": false
   },
   "outputs": [
    {
     "name": "stdout",
     "output_type": "stream",
     "text": [
      "(1142064, 1206877, 1127978, 865953, 1118303, 1119848, 1085037, 1227751, 887053, 800126, 1146191, 1078889, 886823)\n"
     ]
    }
   ],
   "source": [
    "print(my_area)"
   ]
  },
  {
   "cell_type": "markdown",
   "metadata": {},
   "source": [
    "## ``%pg_first`` and ``%pg_one``: quick access to single-row queries\n",
    "\n",
    "Sometimes, a query is known to return just one row. The example below uses ``count()``, which instructs postgres to return the number of records matched by the query. In this scenario, ``%pg_first`` returns the first (and in this case only) record as tuple (in case there are multiple columns). ``%pg_one`` does the same, but in case the there is only one column, it takes the single entry out of its tuple and returns it directly.\n",
    "\n",
    "Note that both are line-magics; their usage is a bit different (note how the data is retrieved):"
   ]
  },
  {
   "cell_type": "code",
   "execution_count": 12,
   "metadata": {
    "collapsed": false
   },
   "outputs": [
    {
     "name": "stdout",
     "output_type": "stream",
     "text": [
      "SUCCES: matched 1 rows\n"
     ]
    }
   ],
   "source": [
    "count = %pg_first SELECT count(x_coord), count(y_coord) from \"Individual Cell\".\"Built-up Area\" WHERE area > 400*2000"
   ]
  },
  {
   "cell_type": "code",
   "execution_count": 13,
   "metadata": {
    "collapsed": false
   },
   "outputs": [
    {
     "name": "stdout",
     "output_type": "stream",
     "text": [
      "(13, 13)\n"
     ]
    }
   ],
   "source": [
    "print(count)"
   ]
  },
  {
   "cell_type": "code",
   "execution_count": 14,
   "metadata": {
    "collapsed": false
   },
   "outputs": [
    {
     "name": "stdout",
     "output_type": "stream",
     "text": [
      "SUCCES: matched 1 rows\n"
     ]
    },
    {
     "data": {
      "text/plain": [
       "13"
      ]
     },
     "execution_count": 14,
     "metadata": {},
     "output_type": "execute_result"
    }
   ],
   "source": [
    "%pg_one SELECT count(x_coord) from \"Individual Cell\".\"Built-up Area\" WHERE area > 400*2000"
   ]
  },
  {
   "cell_type": "markdown",
   "metadata": {},
   "source": [
    "In case you forgot to store the result, IPython can come to your rescue"
   ]
  },
  {
   "cell_type": "code",
   "execution_count": 15,
   "metadata": {
    "collapsed": false
   },
   "outputs": [
    {
     "name": "stdout",
     "output_type": "stream",
     "text": [
      "13\n"
     ]
    }
   ],
   "source": [
    "print(_)"
   ]
  },
  {
   "cell_type": "markdown",
   "metadata": {},
   "source": [
    "And again, to show the advantage of ``%pg_one``:"
   ]
  },
  {
   "cell_type": "code",
   "execution_count": 16,
   "metadata": {
    "collapsed": false
   },
   "outputs": [
    {
     "name": "stdout",
     "output_type": "stream",
     "text": [
      "SUCCES: matched 1 rows\n"
     ]
    },
    {
     "data": {
      "text/plain": [
       "(13,)"
      ]
     },
     "execution_count": 16,
     "metadata": {},
     "output_type": "execute_result"
    }
   ],
   "source": [
    "%pg_first SELECT count(x_coord) from \"Individual Cell\".\"Built-up Area\" WHERE area > 400*2000"
   ]
  },
  {
   "cell_type": "markdown",
   "metadata": {},
   "source": [
    "## Working with cursors: ``%%pg_sql`` and ``%%pg_cursor``\n",
    "\n",
    "There are cases where you need more fine-grained control over how the data is retrieved from the server. This means that you directly work with ``psycopg2``, but *ipython_pg* can still support you. Indeed, queries are always executed within a context; in postgres (and other relational databases) this is represented by a so called \"cursor\". Conceptually, the most tangible analogy is that of a service desk of a large company, say the Swiss Post: you do not talk to each departement separately, but rather access the company's services through the gateway of a service desk.  \n",
    "Practically, a cursor is just an object through which you interact with the database. It is spawned from the connection object, \n",
    "\n",
    "``%%pg_sql`` displays HTML tables of the results by default. But if a variable name is provided as argument, then it returns the cursor it executed the query against instead. This gives you access to the data; this can be handy e.g. with very large datasets, as the cursor can be iterated record by record, instead of having to download everything at once:"
   ]
  },
  {
   "cell_type": "code",
   "execution_count": 17,
   "metadata": {
    "collapsed": false
   },
   "outputs": [
    {
     "name": "stdout",
     "output_type": "stream",
     "text": [
      "SUCCES: matched 13 rows\n",
      " cursor object as 'cur'\n"
     ]
    }
   ],
   "source": [
    "%%pg_sql cur\n",
    "SELECT x_coord, y_coord, area from \"Individual Cell\".\"Built-up Area\" WHERE area > 400*2000"
   ]
  },
  {
   "cell_type": "code",
   "execution_count": 18,
   "metadata": {
    "collapsed": false
   },
   "outputs": [
    {
     "data": {
      "text/plain": [
       "psycopg2.extensions.cursor"
      ]
     },
     "execution_count": 18,
     "metadata": {},
     "output_type": "execute_result"
    }
   ],
   "source": [
    "type(cur)"
   ]
  },
  {
   "cell_type": "markdown",
   "metadata": {},
   "source": [
    "The cursor is iteable:"
   ]
  },
  {
   "cell_type": "code",
   "execution_count": 19,
   "metadata": {
    "collapsed": false
   },
   "outputs": [
    {
     "data": {
      "text/plain": [
       "(499000, 115000, 1142064)"
      ]
     },
     "execution_count": 19,
     "metadata": {},
     "output_type": "execute_result"
    }
   ],
   "source": [
    "next(cur)"
   ]
  },
  {
   "cell_type": "markdown",
   "metadata": {},
   "source": [
    "You can loop over it using a for-loop (e.g.) or use it within an array comprehension. Also, it provides methods to scroll through the result dataset. The cursor always points to a certain record within the entire set. Be aware that it doesn't automatically rewind if it arrived at the last dataset:"
   ]
  },
  {
   "cell_type": "code",
   "execution_count": 21,
   "metadata": {
    "collapsed": false
   },
   "outputs": [
    {
     "ename": "StopIteration",
     "evalue": "",
     "output_type": "error",
     "traceback": [
      "\u001b[0;31m---------------------------------------------------------------------------\u001b[0m",
      "\u001b[0;31mStopIteration\u001b[0m                             Traceback (most recent call last)",
      "\u001b[0;32m<ipython-input-21-96e71611c8c4>\u001b[0m in \u001b[0;36m<module>\u001b[0;34m()\u001b[0m\n\u001b[1;32m      1\u001b[0m \u001b[1;32mfor\u001b[0m \u001b[0mrow\u001b[0m \u001b[1;32min\u001b[0m \u001b[0mcur\u001b[0m\u001b[1;33m:\u001b[0m\u001b[1;33m\u001b[0m\u001b[0m\n\u001b[1;32m      2\u001b[0m     \u001b[1;32mpass\u001b[0m\u001b[1;33m\u001b[0m\u001b[0m\n\u001b[0;32m----> 3\u001b[0;31m \u001b[0mnext\u001b[0m\u001b[1;33m(\u001b[0m\u001b[0mcur\u001b[0m\u001b[1;33m)\u001b[0m\u001b[1;33m\u001b[0m\u001b[0m\n\u001b[0m",
      "\u001b[0;31mStopIteration\u001b[0m: "
     ]
    }
   ],
   "source": [
    "for row in cur:\n",
    "    pass\n",
    "next(cur)"
   ]
  },
  {
   "cell_type": "markdown",
   "metadata": {},
   "source": [
    "Alternatively, you can also work directly on cursors. The ``%pg_cursor`` line-magic gives you a fresh cursor to do with as you please:"
   ]
  },
  {
   "cell_type": "code",
   "execution_count": 22,
   "metadata": {
    "collapsed": false
   },
   "outputs": [
    {
     "data": {
      "text/plain": [
       "(499000, 115000, 1142064)"
      ]
     },
     "execution_count": 22,
     "metadata": {},
     "output_type": "execute_result"
    }
   ],
   "source": [
    "cur = %pg_cursor\n",
    "cur.execute('SELECT x_coord, y_coord, area from \"Individual Cell\".\"Built-up Area\" WHERE area > 400*2000')\n",
    "next(cur)"
   ]
  },
  {
   "cell_type": "markdown",
   "metadata": {},
   "source": [
    "Beware though that this also puts you in charge of error-handling. Syntax errors or other unexpected conditions corrupt the cursor. You then have to instruct the connection to \"rollback\" any transaction. The ``%pg_rollback`` magic makes this easy: "
   ]
  },
  {
   "cell_type": "code",
   "execution_count": 23,
   "metadata": {
    "collapsed": false
   },
   "outputs": [
    {
     "ename": "ProgrammingError",
     "evalue": "column \"syntax\" does not exist\nLINE 1: SELECT syntax-error\n               ^\n",
     "output_type": "error",
     "traceback": [
      "\u001b[0;31m---------------------------------------------------------------------------\u001b[0m",
      "\u001b[0;31mProgrammingError\u001b[0m                          Traceback (most recent call last)",
      "\u001b[0;32m<ipython-input-23-d8f085d91789>\u001b[0m in \u001b[0;36m<module>\u001b[0;34m()\u001b[0m\n\u001b[1;32m      1\u001b[0m \u001b[0mcur\u001b[0m \u001b[1;33m=\u001b[0m \u001b[0mget_ipython\u001b[0m\u001b[1;33m(\u001b[0m\u001b[1;33m)\u001b[0m\u001b[1;33m.\u001b[0m\u001b[0mmagic\u001b[0m\u001b[1;33m(\u001b[0m\u001b[1;34m'pg_cursor'\u001b[0m\u001b[1;33m)\u001b[0m\u001b[1;33m\u001b[0m\u001b[0m\n\u001b[0;32m----> 2\u001b[0;31m \u001b[0mcur\u001b[0m\u001b[1;33m.\u001b[0m\u001b[0mexecute\u001b[0m\u001b[1;33m(\u001b[0m\u001b[1;34m'SELECT syntax-error'\u001b[0m\u001b[1;33m)\u001b[0m\u001b[1;33m\u001b[0m\u001b[0m\n\u001b[0m",
      "\u001b[0;31mProgrammingError\u001b[0m: column \"syntax\" does not exist\nLINE 1: SELECT syntax-error\n               ^\n"
     ]
    }
   ],
   "source": [
    "cur = %pg_cursor\n",
    "cur.execute('SELECT syntax-error')"
   ]
  },
  {
   "cell_type": "code",
   "execution_count": 24,
   "metadata": {
    "collapsed": false,
    "scrolled": true
   },
   "outputs": [
    {
     "name": "stderr",
     "output_type": "stream",
     "text": [
      "ERROR: current transaction is aborted, commands ignored until end of transaction block\n",
      "\n"
     ]
    },
    {
     "ename": "ProgrammingError",
     "evalue": "no results to fetch",
     "output_type": "error",
     "traceback": [
      "\u001b[0;31m---------------------------------------------------------------------------\u001b[0m",
      "\u001b[0;31mProgrammingError\u001b[0m                          Traceback (most recent call last)",
      "\u001b[0;32m<ipython-input-24-2f984df38d97>\u001b[0m in \u001b[0;36m<module>\u001b[0;34m()\u001b[0m\n\u001b[0;32m----> 1\u001b[0;31m \u001b[0mget_ipython\u001b[0m\u001b[1;33m(\u001b[0m\u001b[1;33m)\u001b[0m\u001b[1;33m.\u001b[0m\u001b[0mmagic\u001b[0m\u001b[1;33m(\u001b[0m\u001b[1;34m'pg_one select 1'\u001b[0m\u001b[1;33m)\u001b[0m\u001b[1;33m\u001b[0m\u001b[0m\n\u001b[0m",
      "\u001b[0;32mC:\\Anaconda3\\lib\\site-packages\\IPython\\core\\interactiveshell.py\u001b[0m in \u001b[0;36mmagic\u001b[0;34m(self, arg_s)\u001b[0m\n\u001b[1;32m   2156\u001b[0m         \u001b[0mmagic_name\u001b[0m\u001b[1;33m,\u001b[0m \u001b[0m_\u001b[0m\u001b[1;33m,\u001b[0m \u001b[0mmagic_arg_s\u001b[0m \u001b[1;33m=\u001b[0m \u001b[0marg_s\u001b[0m\u001b[1;33m.\u001b[0m\u001b[0mpartition\u001b[0m\u001b[1;33m(\u001b[0m\u001b[1;34m' '\u001b[0m\u001b[1;33m)\u001b[0m\u001b[1;33m\u001b[0m\u001b[0m\n\u001b[1;32m   2157\u001b[0m         \u001b[0mmagic_name\u001b[0m \u001b[1;33m=\u001b[0m \u001b[0mmagic_name\u001b[0m\u001b[1;33m.\u001b[0m\u001b[0mlstrip\u001b[0m\u001b[1;33m(\u001b[0m\u001b[0mprefilter\u001b[0m\u001b[1;33m.\u001b[0m\u001b[0mESC_MAGIC\u001b[0m\u001b[1;33m)\u001b[0m\u001b[1;33m\u001b[0m\u001b[0m\n\u001b[0;32m-> 2158\u001b[0;31m         \u001b[1;32mreturn\u001b[0m \u001b[0mself\u001b[0m\u001b[1;33m.\u001b[0m\u001b[0mrun_line_magic\u001b[0m\u001b[1;33m(\u001b[0m\u001b[0mmagic_name\u001b[0m\u001b[1;33m,\u001b[0m \u001b[0mmagic_arg_s\u001b[0m\u001b[1;33m)\u001b[0m\u001b[1;33m\u001b[0m\u001b[0m\n\u001b[0m\u001b[1;32m   2159\u001b[0m \u001b[1;33m\u001b[0m\u001b[0m\n\u001b[1;32m   2160\u001b[0m     \u001b[1;31m#-------------------------------------------------------------------------\u001b[0m\u001b[1;33m\u001b[0m\u001b[1;33m\u001b[0m\u001b[0m\n",
      "\u001b[0;32mC:\\Anaconda3\\lib\\site-packages\\IPython\\core\\interactiveshell.py\u001b[0m in \u001b[0;36mrun_line_magic\u001b[0;34m(self, magic_name, line)\u001b[0m\n\u001b[1;32m   2077\u001b[0m                 \u001b[0mkwargs\u001b[0m\u001b[1;33m[\u001b[0m\u001b[1;34m'local_ns'\u001b[0m\u001b[1;33m]\u001b[0m \u001b[1;33m=\u001b[0m \u001b[0msys\u001b[0m\u001b[1;33m.\u001b[0m\u001b[0m_getframe\u001b[0m\u001b[1;33m(\u001b[0m\u001b[0mstack_depth\u001b[0m\u001b[1;33m)\u001b[0m\u001b[1;33m.\u001b[0m\u001b[0mf_locals\u001b[0m\u001b[1;33m\u001b[0m\u001b[0m\n\u001b[1;32m   2078\u001b[0m             \u001b[1;32mwith\u001b[0m \u001b[0mself\u001b[0m\u001b[1;33m.\u001b[0m\u001b[0mbuiltin_trap\u001b[0m\u001b[1;33m:\u001b[0m\u001b[1;33m\u001b[0m\u001b[0m\n\u001b[0;32m-> 2079\u001b[0;31m                 \u001b[0mresult\u001b[0m \u001b[1;33m=\u001b[0m \u001b[0mfn\u001b[0m\u001b[1;33m(\u001b[0m\u001b[1;33m*\u001b[0m\u001b[0margs\u001b[0m\u001b[1;33m,\u001b[0m\u001b[1;33m**\u001b[0m\u001b[0mkwargs\u001b[0m\u001b[1;33m)\u001b[0m\u001b[1;33m\u001b[0m\u001b[0m\n\u001b[0m\u001b[1;32m   2080\u001b[0m             \u001b[1;32mreturn\u001b[0m \u001b[0mresult\u001b[0m\u001b[1;33m\u001b[0m\u001b[0m\n\u001b[1;32m   2081\u001b[0m \u001b[1;33m\u001b[0m\u001b[0m\n",
      "\u001b[0;32m<decorator-gen-160>\u001b[0m in \u001b[0;36mpg_one\u001b[0;34m(self, line, cell)\u001b[0m\n",
      "\u001b[0;32mC:\\Anaconda3\\lib\\site-packages\\IPython\\core\\magic.py\u001b[0m in \u001b[0;36m<lambda>\u001b[0;34m(f, *a, **k)\u001b[0m\n\u001b[1;32m    186\u001b[0m     \u001b[1;31m# but it's overkill for just that one bit of state.\u001b[0m\u001b[1;33m\u001b[0m\u001b[1;33m\u001b[0m\u001b[0m\n\u001b[1;32m    187\u001b[0m     \u001b[1;32mdef\u001b[0m \u001b[0mmagic_deco\u001b[0m\u001b[1;33m(\u001b[0m\u001b[0marg\u001b[0m\u001b[1;33m)\u001b[0m\u001b[1;33m:\u001b[0m\u001b[1;33m\u001b[0m\u001b[0m\n\u001b[0;32m--> 188\u001b[0;31m         \u001b[0mcall\u001b[0m \u001b[1;33m=\u001b[0m \u001b[1;32mlambda\u001b[0m \u001b[0mf\u001b[0m\u001b[1;33m,\u001b[0m \u001b[1;33m*\u001b[0m\u001b[0ma\u001b[0m\u001b[1;33m,\u001b[0m \u001b[1;33m**\u001b[0m\u001b[0mk\u001b[0m\u001b[1;33m:\u001b[0m \u001b[0mf\u001b[0m\u001b[1;33m(\u001b[0m\u001b[1;33m*\u001b[0m\u001b[0ma\u001b[0m\u001b[1;33m,\u001b[0m \u001b[1;33m**\u001b[0m\u001b[0mk\u001b[0m\u001b[1;33m)\u001b[0m\u001b[1;33m\u001b[0m\u001b[0m\n\u001b[0m\u001b[1;32m    189\u001b[0m \u001b[1;33m\u001b[0m\u001b[0m\n\u001b[1;32m    190\u001b[0m         \u001b[1;32mif\u001b[0m \u001b[0mcallable\u001b[0m\u001b[1;33m(\u001b[0m\u001b[0marg\u001b[0m\u001b[1;33m)\u001b[0m\u001b[1;33m:\u001b[0m\u001b[1;33m\u001b[0m\u001b[0m\n",
      "\u001b[0;32mT:\\LAV\\EnergySystemsGroup\\tools\\ipython_psql_extension\\ipython_pg\\ipython_extension.py\u001b[0m in \u001b[0;36mpg_one\u001b[0;34m(self, line, cell)\u001b[0m\n\u001b[1;32m    300\u001b[0m         \"\"\"\n\u001b[1;32m    301\u001b[0m         \u001b[0mquery\u001b[0m\u001b[1;33m,\u001b[0m \u001b[0moutput\u001b[0m \u001b[1;33m=\u001b[0m \u001b[0m_line_cell_prep\u001b[0m\u001b[1;33m(\u001b[0m\u001b[0mline\u001b[0m\u001b[1;33m,\u001b[0m \u001b[0mcell\u001b[0m\u001b[1;33m)\u001b[0m\u001b[1;33m\u001b[0m\u001b[0m\n\u001b[0;32m--> 302\u001b[0;31m         \u001b[0mrow\u001b[0m \u001b[1;33m=\u001b[0m \u001b[0mself\u001b[0m\u001b[1;33m.\u001b[0m\u001b[0mpg_first\u001b[0m\u001b[1;33m(\u001b[0m\u001b[0mquery\u001b[0m\u001b[1;33m)\u001b[0m\u001b[1;33m\u001b[0m\u001b[0m\n\u001b[0m\u001b[1;32m    303\u001b[0m         \u001b[1;32mif\u001b[0m \u001b[0mrow\u001b[0m \u001b[1;32mis\u001b[0m \u001b[1;32mnot\u001b[0m \u001b[1;32mNone\u001b[0m\u001b[1;33m:\u001b[0m\u001b[1;33m\u001b[0m\u001b[0m\n\u001b[1;32m    304\u001b[0m             \u001b[0mrow\u001b[0m \u001b[1;33m=\u001b[0m \u001b[0mrow\u001b[0m\u001b[1;33m[\u001b[0m\u001b[1;36m0\u001b[0m\u001b[1;33m]\u001b[0m \u001b[1;32mif\u001b[0m \u001b[0mlen\u001b[0m\u001b[1;33m(\u001b[0m\u001b[0mrow\u001b[0m\u001b[1;33m)\u001b[0m \u001b[1;33m==\u001b[0m \u001b[1;36m1\u001b[0m \u001b[1;32melse\u001b[0m \u001b[0mrow\u001b[0m\u001b[1;33m\u001b[0m\u001b[0m\n",
      "\u001b[0;32m<decorator-gen-159>\u001b[0m in \u001b[0;36mpg_first\u001b[0;34m(self, sql)\u001b[0m\n",
      "\u001b[0;32mC:\\Anaconda3\\lib\\site-packages\\IPython\\core\\magic.py\u001b[0m in \u001b[0;36m<lambda>\u001b[0;34m(f, *a, **k)\u001b[0m\n\u001b[1;32m    186\u001b[0m     \u001b[1;31m# but it's overkill for just that one bit of state.\u001b[0m\u001b[1;33m\u001b[0m\u001b[1;33m\u001b[0m\u001b[0m\n\u001b[1;32m    187\u001b[0m     \u001b[1;32mdef\u001b[0m \u001b[0mmagic_deco\u001b[0m\u001b[1;33m(\u001b[0m\u001b[0marg\u001b[0m\u001b[1;33m)\u001b[0m\u001b[1;33m:\u001b[0m\u001b[1;33m\u001b[0m\u001b[0m\n\u001b[0;32m--> 188\u001b[0;31m         \u001b[0mcall\u001b[0m \u001b[1;33m=\u001b[0m \u001b[1;32mlambda\u001b[0m \u001b[0mf\u001b[0m\u001b[1;33m,\u001b[0m \u001b[1;33m*\u001b[0m\u001b[0ma\u001b[0m\u001b[1;33m,\u001b[0m \u001b[1;33m**\u001b[0m\u001b[0mk\u001b[0m\u001b[1;33m:\u001b[0m \u001b[0mf\u001b[0m\u001b[1;33m(\u001b[0m\u001b[1;33m*\u001b[0m\u001b[0ma\u001b[0m\u001b[1;33m,\u001b[0m \u001b[1;33m**\u001b[0m\u001b[0mk\u001b[0m\u001b[1;33m)\u001b[0m\u001b[1;33m\u001b[0m\u001b[0m\n\u001b[0m\u001b[1;32m    189\u001b[0m \u001b[1;33m\u001b[0m\u001b[0m\n\u001b[1;32m    190\u001b[0m         \u001b[1;32mif\u001b[0m \u001b[0mcallable\u001b[0m\u001b[1;33m(\u001b[0m\u001b[0marg\u001b[0m\u001b[1;33m)\u001b[0m\u001b[1;33m:\u001b[0m\u001b[1;33m\u001b[0m\u001b[0m\n",
      "\u001b[0;32mT:\\LAV\\EnergySystemsGroup\\tools\\ipython_psql_extension\\ipython_pg\\ipython_extension.py\u001b[0m in \u001b[0;36mpg_first\u001b[0;34m(self, sql)\u001b[0m\n\u001b[1;32m    276\u001b[0m         \"\"\"\n\u001b[1;32m    277\u001b[0m         \u001b[0mcur\u001b[0m \u001b[1;33m=\u001b[0m \u001b[0mself\u001b[0m\u001b[1;33m.\u001b[0m\u001b[0mquery\u001b[0m\u001b[1;33m(\u001b[0m\u001b[0mstr\u001b[0m\u001b[1;33m(\u001b[0m\u001b[0msql\u001b[0m\u001b[1;33m)\u001b[0m\u001b[1;33m)\u001b[0m\u001b[1;33m\u001b[0m\u001b[0m\n\u001b[0;32m--> 278\u001b[0;31m         \u001b[1;32mreturn\u001b[0m \u001b[0mcur\u001b[0m\u001b[1;33m.\u001b[0m\u001b[0mfetchone\u001b[0m\u001b[1;33m(\u001b[0m\u001b[1;33m)\u001b[0m\u001b[1;33m\u001b[0m\u001b[0m\n\u001b[0m\u001b[1;32m    279\u001b[0m \u001b[1;33m\u001b[0m\u001b[0m\n\u001b[1;32m    280\u001b[0m     \u001b[1;33m@\u001b[0m\u001b[0mline_cell_magic\u001b[0m\u001b[1;33m\u001b[0m\u001b[0m\n",
      "\u001b[0;31mProgrammingError\u001b[0m: no results to fetch"
     ]
    }
   ],
   "source": [
    "%pg_one select 1"
   ]
  },
  {
   "cell_type": "markdown",
   "metadata": {},
   "source": [
    "As you can see, even though this last query is syntactically valid, it fails, unless you roll back the previous transaction:"
   ]
  },
  {
   "cell_type": "code",
   "execution_count": 25,
   "metadata": {
    "collapsed": true
   },
   "outputs": [],
   "source": [
    "%pg_rollback"
   ]
  },
  {
   "cell_type": "code",
   "execution_count": 26,
   "metadata": {
    "collapsed": false
   },
   "outputs": [
    {
     "name": "stdout",
     "output_type": "stream",
     "text": [
      "SUCCES: matched 1 rows\n"
     ]
    },
    {
     "data": {
      "text/plain": [
       "1"
      ]
     },
     "execution_count": 26,
     "metadata": {},
     "output_type": "execute_result"
    }
   ],
   "source": [
    "%pg_one select 1"
   ]
  },
  {
   "cell_type": "markdown",
   "metadata": {},
   "source": [
    "Note that executing the ``%pg_one select 1`` query a second time will resolve the issue too, because the magic's automatic error-handling issue a rollback on any error (including those not caused by it)."
   ]
  },
  {
   "cell_type": "markdown",
   "metadata": {},
   "source": [
    "# Convenience features for the lazy"
   ]
  },
  {
   "cell_type": "markdown",
   "metadata": {},
   "source": [
    "## Dynamic variable substitution\n",
    "\n",
    "So far, you have to hard-code queries completely. But imagine that you are trying out different threshold values in the previous \"area\"-query and you compute them in your notebook. You'd have to copy the calculated value into the SQL-text at every iteration, which becomes tedious quickly. This is why we have variable substitution instead. The example isn't spectecular, but I hope it shows the potential of this method:"
   ]
  },
  {
   "cell_type": "code",
   "execution_count": 27,
   "metadata": {
    "collapsed": true
   },
   "outputs": [],
   "source": [
    "my_variable =  3.141516"
   ]
  },
  {
   "cell_type": "code",
   "execution_count": 28,
   "metadata": {
    "collapsed": false
   },
   "outputs": [
    {
     "name": "stdout",
     "output_type": "stream",
     "text": [
      "SUCCES: matched 1 rows\n"
     ]
    },
    {
     "data": {
      "text/plain": [
       "Decimal('3.141516')"
      ]
     },
     "execution_count": 28,
     "metadata": {},
     "output_type": "execute_result"
    }
   ],
   "source": [
    "%pg_one SELECT {my_variable}"
   ]
  },
  {
   "cell_type": "markdown",
   "metadata": {},
   "source": [
    "## Green mode\n",
    "One of the annoyances of psycopg2 is that long-running queries can't be aborted. Your query has been running for minutes, and suddenly you realize that it's actually wrong. So you start hitting \"interrupt\" or \"Ctrl+C\", but nothing happens. So you either wait, or restart your interpreter and loose all your data in memory.\n",
    "\n",
    "The \"green_mode\" module uses the coroutine support introduced in psycopg2 to make psycopg2 listen for interrupts - and thus enables you to abort queries. Just try it out: run the query blow and interrupt the kernel. The keyboard-interrupt exeption will be risen, but only after the server is done sleeping:"
   ]
  },
  {
   "cell_type": "code",
   "execution_count": 29,
   "metadata": {
    "collapsed": false,
    "scrolled": true
   },
   "outputs": [
    {
     "name": "stdout",
     "output_type": "stream",
     "text": [
      "SUCCES: matched 1 rows\n"
     ]
    },
    {
     "data": {
      "text/plain": [
       "<cursor object at 0x000001AF2B55B558; closed: 0>"
      ]
     },
     "execution_count": 29,
     "metadata": {},
     "output_type": "execute_result"
    }
   ],
   "source": [
    "%pg_sql select pg_sleep(10)"
   ]
  },
  {
   "cell_type": "markdown",
   "metadata": {},
   "source": [
    "Now, let's try this again with green-mode activated:"
   ]
  },
  {
   "cell_type": "code",
   "execution_count": 30,
   "metadata": {
    "collapsed": true
   },
   "outputs": [],
   "source": [
    "import ipython_pg.green_mode\n",
    "ipython_pg.green_mode.activate()"
   ]
  },
  {
   "cell_type": "code",
   "execution_count": 31,
   "metadata": {
    "collapsed": false
   },
   "outputs": [
    {
     "name": "stderr",
     "output_type": "stream",
     "text": [
      "ERROR: canceling statement due to user request\n",
      "\n"
     ]
    },
    {
     "data": {
      "text/plain": [
       "<cursor object at 0x000001AF2B55B630; closed: 0>"
      ]
     },
     "execution_count": 31,
     "metadata": {},
     "output_type": "execute_result"
    }
   ],
   "source": [
    "%pg_sql select pg_sleep(10)"
   ]
  },
  {
   "cell_type": "markdown",
   "metadata": {},
   "source": [
    "## PostGIS integration\n",
    "\n",
    "The PostGIS integration registers a set of adapters and types, that dynamically and transparently convert PostGIS types to Shapely BaseGeometries for Python and vis-versa (note: depends on Shapely)."
   ]
  },
  {
   "cell_type": "code",
   "execution_count": 32,
   "metadata": {
    "collapsed": false
   },
   "outputs": [],
   "source": [
    "import ipython_pg.postgis_integration\n",
    "ipython_pg.postgis_integration.activate()"
   ]
  },
  {
   "cell_type": "code",
   "execution_count": null,
   "metadata": {
    "collapsed": true
   },
   "outputs": [],
   "source": []
  }
 ],
 "metadata": {
  "anaconda-cloud": {},
  "kernelspec": {
   "display_name": "Python [default]",
   "language": "python",
   "name": "python3"
  },
  "language_info": {
   "codemirror_mode": {
    "name": "ipython",
    "version": 3
   },
   "file_extension": ".py",
   "mimetype": "text/x-python",
   "name": "python",
   "nbconvert_exporter": "python",
   "pygments_lexer": "ipython3",
   "version": "3.5.2"
  }
 },
 "nbformat": 4,
 "nbformat_minor": 0
}
